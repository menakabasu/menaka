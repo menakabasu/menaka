{
  "cells": [
    {
      "attachments": {},
      "cell_type": "markdown",
      "metadata": {},
      "source": [
        "## Practice Exercise 2\n"
      ]
    },
    {
      "attachments": {},
      "cell_type": "markdown",
      "metadata": {},
      "source": [
        "Part 1"
      ]
    },
    {
      "cell_type": "code",
      "execution_count": 1,
      "metadata": {},
      "outputs": [],
      "source": [
        "## import pandas python libraries once\n",
        "\n",
        "import pandas as pd"
      ]
    },
    {
      "cell_type": "code",
      "execution_count": 3,
      "metadata": {},
      "outputs": [
        {
          "data": {
            "text/html": [
              "<div>\n",
              "<style scoped>\n",
              "    .dataframe tbody tr th:only-of-type {\n",
              "        vertical-align: middle;\n",
              "    }\n",
              "\n",
              "    .dataframe tbody tr th {\n",
              "        vertical-align: top;\n",
              "    }\n",
              "\n",
              "    .dataframe thead th {\n",
              "        text-align: right;\n",
              "    }\n",
              "</style>\n",
              "<table border=\"1\" class=\"dataframe\">\n",
              "  <thead>\n",
              "    <tr style=\"text-align: right;\">\n",
              "      <th></th>\n",
              "      <th>Campaign Name</th>\n",
              "      <th>Campaign ID</th>\n",
              "      <th>Placement</th>\n",
              "      <th>Date</th>\n",
              "      <th>Impressions</th>\n",
              "      <th>Clicks</th>\n",
              "      <th>Cost</th>\n",
              "      <th>Video Completions</th>\n",
              "      <th>Find A Dealer Conversion</th>\n",
              "      <th>Online Brochure Download</th>\n",
              "    </tr>\n",
              "  </thead>\n",
              "  <tbody>\n",
              "    <tr>\n",
              "      <th>0</th>\n",
              "      <td>CY21_Q1_LOC_BE_Mercedes_S-Class_ProgrammaticDi...</td>\n",
              "      <td>25347887</td>\n",
              "      <td>BE_Mercedes_S-Class_DV360_DkTbMb_Contextual_16...</td>\n",
              "      <td>05/03/2021</td>\n",
              "      <td>39.0</td>\n",
              "      <td>0</td>\n",
              "      <td>0.17</td>\n",
              "      <td>0</td>\n",
              "      <td>0</td>\n",
              "      <td>0</td>\n",
              "    </tr>\n",
              "    <tr>\n",
              "      <th>1</th>\n",
              "      <td>CY21_Q1_LOC_BE_Mercedes_S-Class_ProgrammaticDi...</td>\n",
              "      <td>25347887</td>\n",
              "      <td>BE_Mercedes_S-Class_DV360_DkTbMb_Contextual_16...</td>\n",
              "      <td>06/03/2021</td>\n",
              "      <td>43.0</td>\n",
              "      <td>0</td>\n",
              "      <td>0.27</td>\n",
              "      <td>0</td>\n",
              "      <td>0</td>\n",
              "      <td>0</td>\n",
              "    </tr>\n",
              "    <tr>\n",
              "      <th>2</th>\n",
              "      <td>CY21_Q1_LOC_BE_Mercedes_S-Class_ProgrammaticDi...</td>\n",
              "      <td>25347887</td>\n",
              "      <td>BE_Mercedes_S-Class_DV360_DkTbMb_Contextual_16...</td>\n",
              "      <td>07/03/2021</td>\n",
              "      <td>35.0</td>\n",
              "      <td>0</td>\n",
              "      <td>0.26</td>\n",
              "      <td>0</td>\n",
              "      <td>0</td>\n",
              "      <td>0</td>\n",
              "    </tr>\n",
              "    <tr>\n",
              "      <th>3</th>\n",
              "      <td>CY21_Q1_LOC_BE_Mercedes_S-Class_ProgrammaticDi...</td>\n",
              "      <td>25347887</td>\n",
              "      <td>BE_Mercedes_S-Class_DV360_DkTbMb_Contextual_16...</td>\n",
              "      <td>08/03/2021</td>\n",
              "      <td>60.0</td>\n",
              "      <td>0</td>\n",
              "      <td>0.13</td>\n",
              "      <td>0</td>\n",
              "      <td>0</td>\n",
              "      <td>0</td>\n",
              "    </tr>\n",
              "    <tr>\n",
              "      <th>4</th>\n",
              "      <td>CY21_Q1_LOC_BE_Mercedes_S-Class_ProgrammaticDi...</td>\n",
              "      <td>25347887</td>\n",
              "      <td>BE_Mercedes_S-Class_DV360_DkTbMb_Contextual_16...</td>\n",
              "      <td>09/03/2021</td>\n",
              "      <td>17.0</td>\n",
              "      <td>0</td>\n",
              "      <td>0.04</td>\n",
              "      <td>0</td>\n",
              "      <td>0</td>\n",
              "      <td>0</td>\n",
              "    </tr>\n",
              "    <tr>\n",
              "      <th>...</th>\n",
              "      <td>...</td>\n",
              "      <td>...</td>\n",
              "      <td>...</td>\n",
              "      <td>...</td>\n",
              "      <td>...</td>\n",
              "      <td>...</td>\n",
              "      <td>...</td>\n",
              "      <td>...</td>\n",
              "      <td>...</td>\n",
              "      <td>...</td>\n",
              "    </tr>\n",
              "    <tr>\n",
              "      <th>52476</th>\n",
              "      <td>CY21_Q1_LOC_ES_Smart_Fortwo_ProgrammaticDispla...</td>\n",
              "      <td>25362071</td>\n",
              "      <td>ES_Smart_Fortwo_TTD_TbMb_Contextual_728x90</td>\n",
              "      <td>28/03/2021</td>\n",
              "      <td>0.0</td>\n",
              "      <td>347</td>\n",
              "      <td>0.00</td>\n",
              "      <td>0</td>\n",
              "      <td>51</td>\n",
              "      <td>24</td>\n",
              "    </tr>\n",
              "    <tr>\n",
              "      <th>52477</th>\n",
              "      <td>CY21_Q1_LOC_ES_Smart_Fortwo_ProgrammaticDispla...</td>\n",
              "      <td>25362071</td>\n",
              "      <td>ES_Smart_Fortwo_TTD_TbMb_Contextual_728x90</td>\n",
              "      <td>29/03/2021</td>\n",
              "      <td>0.0</td>\n",
              "      <td>76</td>\n",
              "      <td>0.00</td>\n",
              "      <td>0</td>\n",
              "      <td>12</td>\n",
              "      <td>1</td>\n",
              "    </tr>\n",
              "    <tr>\n",
              "      <th>52478</th>\n",
              "      <td>CY21_Q1_LOC_ES_Smart_Fortwo_ProgrammaticDispla...</td>\n",
              "      <td>25362071</td>\n",
              "      <td>ES_Smart_Fortwo_TTD_TbMb_Contextual_728x90</td>\n",
              "      <td>30/03/2021</td>\n",
              "      <td>0.0</td>\n",
              "      <td>45</td>\n",
              "      <td>0.00</td>\n",
              "      <td>0</td>\n",
              "      <td>5</td>\n",
              "      <td>0</td>\n",
              "    </tr>\n",
              "    <tr>\n",
              "      <th>52479</th>\n",
              "      <td>CY21_Q1_LOC_ES_Smart_Fortwo_ProgrammaticDis_Pr...</td>\n",
              "      <td>25362071</td>\n",
              "      <td>ES_Smart_Fortwo_TTD_TbMb_Contextual_728x90</td>\n",
              "      <td>31/03/2021</td>\n",
              "      <td>0.0</td>\n",
              "      <td>52</td>\n",
              "      <td>0.00</td>\n",
              "      <td>0</td>\n",
              "      <td>8</td>\n",
              "      <td>3</td>\n",
              "    </tr>\n",
              "    <tr>\n",
              "      <th>52480</th>\n",
              "      <td>CY21_Q1_LOC_ES_Smart_Fortwo_ProgrammaticVideo_...</td>\n",
              "      <td>24922332</td>\n",
              "      <td>ES_Smart_Fortwo_TTD_DkTbMb_Interest_30\"</td>\n",
              "      <td>11/01/2021</td>\n",
              "      <td>1.0</td>\n",
              "      <td>0</td>\n",
              "      <td>0.01</td>\n",
              "      <td>1</td>\n",
              "      <td>0</td>\n",
              "      <td>0</td>\n",
              "    </tr>\n",
              "  </tbody>\n",
              "</table>\n",
              "<p>52481 rows × 10 columns</p>\n",
              "</div>"
            ],
            "text/plain": [
              "                                           Campaign Name  Campaign ID  \\\n",
              "0      CY21_Q1_LOC_BE_Mercedes_S-Class_ProgrammaticDi...     25347887   \n",
              "1      CY21_Q1_LOC_BE_Mercedes_S-Class_ProgrammaticDi...     25347887   \n",
              "2      CY21_Q1_LOC_BE_Mercedes_S-Class_ProgrammaticDi...     25347887   \n",
              "3      CY21_Q1_LOC_BE_Mercedes_S-Class_ProgrammaticDi...     25347887   \n",
              "4      CY21_Q1_LOC_BE_Mercedes_S-Class_ProgrammaticDi...     25347887   \n",
              "...                                                  ...          ...   \n",
              "52476  CY21_Q1_LOC_ES_Smart_Fortwo_ProgrammaticDispla...     25362071   \n",
              "52477  CY21_Q1_LOC_ES_Smart_Fortwo_ProgrammaticDispla...     25362071   \n",
              "52478  CY21_Q1_LOC_ES_Smart_Fortwo_ProgrammaticDispla...     25362071   \n",
              "52479  CY21_Q1_LOC_ES_Smart_Fortwo_ProgrammaticDis_Pr...     25362071   \n",
              "52480  CY21_Q1_LOC_ES_Smart_Fortwo_ProgrammaticVideo_...     24922332   \n",
              "\n",
              "                                               Placement        Date  \\\n",
              "0      BE_Mercedes_S-Class_DV360_DkTbMb_Contextual_16...  05/03/2021   \n",
              "1      BE_Mercedes_S-Class_DV360_DkTbMb_Contextual_16...  06/03/2021   \n",
              "2      BE_Mercedes_S-Class_DV360_DkTbMb_Contextual_16...  07/03/2021   \n",
              "3      BE_Mercedes_S-Class_DV360_DkTbMb_Contextual_16...  08/03/2021   \n",
              "4      BE_Mercedes_S-Class_DV360_DkTbMb_Contextual_16...  09/03/2021   \n",
              "...                                                  ...         ...   \n",
              "52476         ES_Smart_Fortwo_TTD_TbMb_Contextual_728x90  28/03/2021   \n",
              "52477         ES_Smart_Fortwo_TTD_TbMb_Contextual_728x90  29/03/2021   \n",
              "52478         ES_Smart_Fortwo_TTD_TbMb_Contextual_728x90  30/03/2021   \n",
              "52479         ES_Smart_Fortwo_TTD_TbMb_Contextual_728x90  31/03/2021   \n",
              "52480            ES_Smart_Fortwo_TTD_DkTbMb_Interest_30\"  11/01/2021   \n",
              "\n",
              "       Impressions  Clicks  Cost  Video Completions  Find A Dealer Conversion  \\\n",
              "0             39.0       0  0.17                  0                         0   \n",
              "1             43.0       0  0.27                  0                         0   \n",
              "2             35.0       0  0.26                  0                         0   \n",
              "3             60.0       0  0.13                  0                         0   \n",
              "4             17.0       0  0.04                  0                         0   \n",
              "...            ...     ...   ...                ...                       ...   \n",
              "52476          0.0     347  0.00                  0                        51   \n",
              "52477          0.0      76  0.00                  0                        12   \n",
              "52478          0.0      45  0.00                  0                         5   \n",
              "52479          0.0      52  0.00                  0                         8   \n",
              "52480          1.0       0  0.01                  1                         0   \n",
              "\n",
              "       Online Brochure Download  \n",
              "0                             0  \n",
              "1                             0  \n",
              "2                             0  \n",
              "3                             0  \n",
              "4                             0  \n",
              "...                         ...  \n",
              "52476                        24  \n",
              "52477                         1  \n",
              "52478                         0  \n",
              "52479                         3  \n",
              "52480                         0  \n",
              "\n",
              "[52481 rows x 10 columns]"
            ]
          },
          "execution_count": 3,
          "metadata": {},
          "output_type": "execute_result"
        }
      ],
      "source": [
        "## 1- Import the file named Data_Analyst_Sample.csv in Pandas\n",
        "\n",
        "df=pd.read_csv(\"Data_Analyst_Sample.csv\")\n",
        "df"
      ]
    },
    {
      "cell_type": "code",
      "execution_count": 4,
      "metadata": {},
      "outputs": [
        {
          "data": {
            "text/plain": [
              "Index(['Campaign Name', 'Campaign ID', 'Placement', 'Date', 'Impressions',\n",
              "       'Clicks', 'Cost', 'Video Completions', 'Find A Dealer Conversion',\n",
              "       'Online Brochure Download'],\n",
              "      dtype='object')"
            ]
          },
          "execution_count": 4,
          "metadata": {},
          "output_type": "execute_result"
        }
      ],
      "source": [
        "## 2- Explore the file with at least 3 common exploration methods in Pandas\n",
        "\n",
        "df.keys()"
      ]
    },
    {
      "cell_type": "code",
      "execution_count": 5,
      "metadata": {},
      "outputs": [
        {
          "name": "stdout",
          "output_type": "stream",
          "text": [
            "<class 'pandas.core.frame.DataFrame'>\n",
            "RangeIndex: 52481 entries, 0 to 52480\n",
            "Data columns (total 10 columns):\n",
            " #   Column                    Non-Null Count  Dtype  \n",
            "---  ------                    --------------  -----  \n",
            " 0   Campaign Name             52445 non-null  object \n",
            " 1   Campaign ID               52481 non-null  int64  \n",
            " 2   Placement                 52481 non-null  object \n",
            " 3   Date                      52448 non-null  object \n",
            " 4   Impressions               52451 non-null  float64\n",
            " 5   Clicks                    52481 non-null  int64  \n",
            " 6   Cost                      52458 non-null  float64\n",
            " 7   Video Completions         52481 non-null  int64  \n",
            " 8   Find A Dealer Conversion  52481 non-null  int64  \n",
            " 9   Online Brochure Download  52481 non-null  int64  \n",
            "dtypes: float64(2), int64(5), object(3)\n",
            "memory usage: 4.0+ MB\n"
          ]
        }
      ],
      "source": [
        "df.info()"
      ]
    },
    {
      "cell_type": "code",
      "execution_count": 6,
      "metadata": {},
      "outputs": [
        {
          "data": {
            "text/html": [
              "<div>\n",
              "<style scoped>\n",
              "    .dataframe tbody tr th:only-of-type {\n",
              "        vertical-align: middle;\n",
              "    }\n",
              "\n",
              "    .dataframe tbody tr th {\n",
              "        vertical-align: top;\n",
              "    }\n",
              "\n",
              "    .dataframe thead th {\n",
              "        text-align: right;\n",
              "    }\n",
              "</style>\n",
              "<table border=\"1\" class=\"dataframe\">\n",
              "  <thead>\n",
              "    <tr style=\"text-align: right;\">\n",
              "      <th></th>\n",
              "      <th>Campaign Name</th>\n",
              "      <th>Campaign ID</th>\n",
              "      <th>Placement</th>\n",
              "      <th>Date</th>\n",
              "      <th>Impressions</th>\n",
              "      <th>Clicks</th>\n",
              "      <th>Cost</th>\n",
              "      <th>Video Completions</th>\n",
              "      <th>Find A Dealer Conversion</th>\n",
              "      <th>Online Brochure Download</th>\n",
              "    </tr>\n",
              "  </thead>\n",
              "  <tbody>\n",
              "    <tr>\n",
              "      <th>0</th>\n",
              "      <td>CY21_Q1_LOC_BE_Mercedes_S-Class_ProgrammaticDi...</td>\n",
              "      <td>25347887</td>\n",
              "      <td>BE_Mercedes_S-Class_DV360_DkTbMb_Contextual_16...</td>\n",
              "      <td>05/03/2021</td>\n",
              "      <td>39.0</td>\n",
              "      <td>0</td>\n",
              "      <td>0.17</td>\n",
              "      <td>0</td>\n",
              "      <td>0</td>\n",
              "      <td>0</td>\n",
              "    </tr>\n",
              "    <tr>\n",
              "      <th>1</th>\n",
              "      <td>CY21_Q1_LOC_BE_Mercedes_S-Class_ProgrammaticDi...</td>\n",
              "      <td>25347887</td>\n",
              "      <td>BE_Mercedes_S-Class_DV360_DkTbMb_Contextual_16...</td>\n",
              "      <td>06/03/2021</td>\n",
              "      <td>43.0</td>\n",
              "      <td>0</td>\n",
              "      <td>0.27</td>\n",
              "      <td>0</td>\n",
              "      <td>0</td>\n",
              "      <td>0</td>\n",
              "    </tr>\n",
              "    <tr>\n",
              "      <th>2</th>\n",
              "      <td>CY21_Q1_LOC_BE_Mercedes_S-Class_ProgrammaticDi...</td>\n",
              "      <td>25347887</td>\n",
              "      <td>BE_Mercedes_S-Class_DV360_DkTbMb_Contextual_16...</td>\n",
              "      <td>07/03/2021</td>\n",
              "      <td>35.0</td>\n",
              "      <td>0</td>\n",
              "      <td>0.26</td>\n",
              "      <td>0</td>\n",
              "      <td>0</td>\n",
              "      <td>0</td>\n",
              "    </tr>\n",
              "    <tr>\n",
              "      <th>3</th>\n",
              "      <td>CY21_Q1_LOC_BE_Mercedes_S-Class_ProgrammaticDi...</td>\n",
              "      <td>25347887</td>\n",
              "      <td>BE_Mercedes_S-Class_DV360_DkTbMb_Contextual_16...</td>\n",
              "      <td>08/03/2021</td>\n",
              "      <td>60.0</td>\n",
              "      <td>0</td>\n",
              "      <td>0.13</td>\n",
              "      <td>0</td>\n",
              "      <td>0</td>\n",
              "      <td>0</td>\n",
              "    </tr>\n",
              "    <tr>\n",
              "      <th>4</th>\n",
              "      <td>CY21_Q1_LOC_BE_Mercedes_S-Class_ProgrammaticDi...</td>\n",
              "      <td>25347887</td>\n",
              "      <td>BE_Mercedes_S-Class_DV360_DkTbMb_Contextual_16...</td>\n",
              "      <td>09/03/2021</td>\n",
              "      <td>17.0</td>\n",
              "      <td>0</td>\n",
              "      <td>0.04</td>\n",
              "      <td>0</td>\n",
              "      <td>0</td>\n",
              "      <td>0</td>\n",
              "    </tr>\n",
              "  </tbody>\n",
              "</table>\n",
              "</div>"
            ],
            "text/plain": [
              "                                       Campaign Name  Campaign ID  \\\n",
              "0  CY21_Q1_LOC_BE_Mercedes_S-Class_ProgrammaticDi...     25347887   \n",
              "1  CY21_Q1_LOC_BE_Mercedes_S-Class_ProgrammaticDi...     25347887   \n",
              "2  CY21_Q1_LOC_BE_Mercedes_S-Class_ProgrammaticDi...     25347887   \n",
              "3  CY21_Q1_LOC_BE_Mercedes_S-Class_ProgrammaticDi...     25347887   \n",
              "4  CY21_Q1_LOC_BE_Mercedes_S-Class_ProgrammaticDi...     25347887   \n",
              "\n",
              "                                           Placement        Date  Impressions  \\\n",
              "0  BE_Mercedes_S-Class_DV360_DkTbMb_Contextual_16...  05/03/2021         39.0   \n",
              "1  BE_Mercedes_S-Class_DV360_DkTbMb_Contextual_16...  06/03/2021         43.0   \n",
              "2  BE_Mercedes_S-Class_DV360_DkTbMb_Contextual_16...  07/03/2021         35.0   \n",
              "3  BE_Mercedes_S-Class_DV360_DkTbMb_Contextual_16...  08/03/2021         60.0   \n",
              "4  BE_Mercedes_S-Class_DV360_DkTbMb_Contextual_16...  09/03/2021         17.0   \n",
              "\n",
              "   Clicks  Cost  Video Completions  Find A Dealer Conversion  \\\n",
              "0       0  0.17                  0                         0   \n",
              "1       0  0.27                  0                         0   \n",
              "2       0  0.26                  0                         0   \n",
              "3       0  0.13                  0                         0   \n",
              "4       0  0.04                  0                         0   \n",
              "\n",
              "   Online Brochure Download  \n",
              "0                         0  \n",
              "1                         0  \n",
              "2                         0  \n",
              "3                         0  \n",
              "4                         0  "
            ]
          },
          "execution_count": 6,
          "metadata": {},
          "output_type": "execute_result"
        }
      ],
      "source": [
        "df.head()"
      ]
    },
    {
      "cell_type": "code",
      "execution_count": 7,
      "metadata": {},
      "outputs": [
        {
          "data": {
            "text/plain": [
              "(52481, 10)"
            ]
          },
          "execution_count": 7,
          "metadata": {},
          "output_type": "execute_result"
        }
      ],
      "source": [
        "## 3- How many rows and columns does the data file have?\n",
        "## Answer the data file has 52481 rows and 10 columns\n",
        "\n",
        "df.shape"
      ]
    },
    {
      "cell_type": "code",
      "execution_count": 8,
      "metadata": {},
      "outputs": [
        {
          "data": {
            "text/plain": [
              "Campaign Name               36\n",
              "Campaign ID                  0\n",
              "Placement                    0\n",
              "Date                        33\n",
              "Impressions                 30\n",
              "Clicks                       0\n",
              "Cost                        23\n",
              "Video Completions            0\n",
              "Find A Dealer Conversion     0\n",
              "Online Brochure Download     0\n",
              "dtype: int64"
            ]
          },
          "execution_count": 8,
          "metadata": {},
          "output_type": "execute_result"
        }
      ],
      "source": [
        "## 4- Which column names have missing values and how many?\n",
        "## Column names with missing values: Campaign Name, Date, Impressions, Cost\n",
        "## 122 missing values in total from all columns\n",
        "\n",
        "df.isnull().sum()"
      ]
    },
    {
      "cell_type": "code",
      "execution_count": 9,
      "metadata": {},
      "outputs": [],
      "source": [
        "## - Remove missing values from columns that contain Pandas object datatype\n",
        "\n",
        "df=df.dropna(subset=['Campaign Name'])"
      ]
    },
    {
      "cell_type": "code",
      "execution_count": 10,
      "metadata": {},
      "outputs": [
        {
          "data": {
            "text/plain": [
              "Campaign Name                0\n",
              "Campaign ID                  0\n",
              "Placement                    0\n",
              "Date                        33\n",
              "Impressions                 30\n",
              "Clicks                       0\n",
              "Cost                        23\n",
              "Video Completions            0\n",
              "Find A Dealer Conversion     0\n",
              "Online Brochure Download     0\n",
              "dtype: int64"
            ]
          },
          "execution_count": 10,
          "metadata": {},
          "output_type": "execute_result"
        }
      ],
      "source": [
        "##  verify that the dataframe doesn't have missing values\n",
        "\n",
        "df.isnull().sum()\n"
      ]
    },
    {
      "cell_type": "code",
      "execution_count": 11,
      "metadata": {},
      "outputs": [],
      "source": [
        "## 6 - - Replace missing values by zero in columns that contain numbers\n",
        "\n",
        "df=df.fillna(0)"
      ]
    },
    {
      "cell_type": "code",
      "execution_count": 12,
      "metadata": {},
      "outputs": [
        {
          "data": {
            "text/plain": [
              "Campaign Name               0\n",
              "Campaign ID                 0\n",
              "Placement                   0\n",
              "Date                        0\n",
              "Impressions                 0\n",
              "Clicks                      0\n",
              "Cost                        0\n",
              "Video Completions           0\n",
              "Find A Dealer Conversion    0\n",
              "Online Brochure Download    0\n",
              "dtype: int64"
            ]
          },
          "execution_count": 12,
          "metadata": {},
          "output_type": "execute_result"
        }
      ],
      "source": [
        "## 7- Verify that no missing values are in the data file\n",
        "\n",
        "df.isnull().sum()"
      ]
    },
    {
      "attachments": {},
      "cell_type": "markdown",
      "metadata": {},
      "source": [
        "## Part 2"
      ]
    },
    {
      "cell_type": "code",
      "execution_count": 13,
      "metadata": {},
      "outputs": [
        {
          "name": "stdout",
          "output_type": "stream",
          "text": [
            "There are 46 errors in the dataframe contained in dataset_errors.csv\n"
          ]
        }
      ],
      "source": [
        "## 1.  Count how many errors there are in the dataset\n",
        "\n",
        "error1=df[\"Campaign Name\"].str.contains(\"S-Cla_\").sum()\n",
        "error2=df[\"Campaign Name\"].str.contains(\"Merc_\").sum()\n",
        "error3=df[\"Campaign Name\"].str.contains(\"Dis_\").sum()\n",
        "error4=df['Campaign Name'].eq('CY21_Q1_LOC_BE_Smart_Fortwo_ProgrammaticVideo_Prosp').sum()\n",
        "\n",
        "sum_errors=error1+error2+error3+error4\n",
        "print(\"There are\",sum_errors,\"errors in the dataframe contained in dataset_errors.csv\")"
      ]
    },
    {
      "cell_type": "code",
      "execution_count": 14,
      "metadata": {},
      "outputs": [],
      "source": [
        "## 2. Use the .replace() method to correct the errors. Verify the errors have been corrected\n",
        "\n",
        "df['Campaign Name']=df['Campaign Name'].str.replace(\"_S-Cla_\",\"_S-Class\")\n",
        "df['Campaign Name']=df['Campaign Name'].str.replace(\"Video_Prosp\",\"Video_Prospecting\")\n",
        "df['Campaign Name']=df['Campaign Name'].str.replace(\"Dis_\",\"Display_\")\n",
        "df['Campaign Name']=df['Campaign Name'].str.replace(\"Merc_\",\"Mercedes_\")\n"
      ]
    },
    {
      "cell_type": "code",
      "execution_count": 15,
      "metadata": {},
      "outputs": [
        {
          "name": "stdout",
          "output_type": "stream",
          "text": [
            "There are 0 errors in the dataframe contained in dataset_errors.csv\n"
          ]
        }
      ],
      "source": [
        "## Verify the errors have been corrected\n",
        "\n",
        "error1=df[\"Campaign Name\"].str.contains(\"S-Cla_\").sum()\n",
        "error2=df[\"Campaign Name\"].str.contains(\"Merc_\").sum()\n",
        "error3=df[\"Campaign Name\"].str.contains(\"Dis_\").sum()\n",
        "error4=df['Campaign Name'].eq('CY21_Q1_LOC_BE_Smart_Fortwo_ProgrammaticVideo_Prosp').sum()\n",
        "\n",
        "sum_errors=error1+error2+error3+error4\n",
        "print(\"There are\",sum_errors,\"errors in the dataframe contained in dataset_errors.csv\")"
      ]
    }
  ],
  "metadata": {
    "kernel_info": {
      "name": "python"
    },
    "kernelspec": {
      "display_name": "base",
      "language": "python",
      "name": "python3"
    },
    "language_info": {
      "codemirror_mode": {
        "name": "python",
        "version": 3
      },
      "file_extension": ".py",
      "mimetype": "text/x-python",
      "name": "python",
      "nbconvert_exporter": "python",
      "pygments_lexer": "ipython3",
      "version": "3.8.5"
    },
    "nteract": {
      "version": "nteract-front-end@1.0.0"
    },
    "orig_nbformat": 4,
    "vscode": {
      "interpreter": {
        "hash": "ef642df4c10bb9cee6de7e9a3085d284f317cc83ca064711808ee9c22dfd4991"
      }
    }
  },
  "nbformat": 4,
  "nbformat_minor": 2
}
