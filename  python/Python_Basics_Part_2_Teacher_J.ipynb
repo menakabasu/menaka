{
  "cells": [
    {
      "cell_type": "markdown",
      "source": [
        "<div class=\"small-12 large-6 columns\">\n",
        "\n",
        "<h1>Shortcut operators</h1>\n",
        "\n",
        "\n",
        "<p>It's time for the next set of operators that make a developer's life easier.</p>\n",
        "\n",
        "<p>Very often, we want to use one and the same variable both to the right and left sides of the <code>=</code> operator.</p>\n",
        "\n",
        "<p>For example, if we need to calculate a series of successive values of powers of 2, we may use a piece like this:</p>\n",
        "\n",
        "<code class=\"codep \">x = x * 2</code>\n",
        "\n",
        "<br>\n",
        "\n",
        "<p>You may use an expression like this if you can't fall asleep and you're trying to deal with it using some good, old-fashioned methods:</p>\n",
        "\n",
        "<code class=\"codep \">sheep = sheep + 1</code>\n",
        "\n",
        "<br>\n",
        "\n",
        "<p>Python offers you a shortened way of writing operations like these, which can be coded as follows:</p>\n",
        "\n",
        "\n",
        "\n",
        "```\n",
        "x *= 2\n",
        "sheep += 1\n",
        "```\n",
        "<br>\n",
        "\n",
        "</div>"
      ],
      "metadata": {
        "id": "jja1vvTP2lYl"
      },
      "id": "jja1vvTP2lYl"
    },
    {
      "cell_type": "code",
      "source": [],
      "metadata": {
        "id": "RS1fbFdE2uR0"
      },
      "id": "RS1fbFdE2uR0",
      "execution_count": null,
      "outputs": []
    },
    {
      "cell_type": "markdown",
      "source": [
        "<div class=\"small-12 large-6 columns\">\n",
        "\n",
        "<h1></h1>\n",
        "\n",
        "<p>Let's try to present a general description for these operations.</p>\n",
        "\n",
        "<p>If <code>op</code> is a two-argument operator (this is a very important condition) and the operator is used in the following context:</p>\n",
        "\n",
        "<code class=\"codep \">variable = variable <mark style=\"background-color:#e6f2ff;\">op</mark> expression</code>\n",
        "\n",
        "<br>\n",
        "\n",
        "<p>It can be simplified and shown as follows:</p>\n",
        "\n",
        "<code class=\"codep \">variable <mark style=\"background-color:#e6f2ff;\">op</mark>= expression</code>\n",
        "\n",
        "<br>\n",
        "\n",
        "\n",
        "<p>Take a look at the examples below. Make sure you understand them all.</p>\n",
        "\n",
        "\n",
        "<p><code>i = i + 2 * j</code>   ⇒   <code>i <mark style=\"background-color:#e6f2ff;\">+=</mark> 2 * j</code></p>\n",
        "<p><code>var = var / 2</code>   ⇒   <code>var <mark style=\"background-color:#e6f2ff;\">/=</mark> 2</code></p>\n",
        "<p><code>rem = rem % 10</code>   ⇒   <code>rem <mark style=\"background-color:#e6f2ff;\">%=</mark> 10</code></p>\n",
        "<p><code>j = j - (i + var + rem)</code>   ⇒   <code>j <mark style=\"background-color:#e6f2ff;\">-=</mark> (i + var + rem)</code></p>\n",
        "<p><code>x = x ** 2</code>   ⇒   <code>x <mark style=\"background-color:#e6f2ff;\">**=</mark> 2</code></p>\n",
        "\n",
        "<br>\n",
        "\n",
        "</div>"
      ],
      "metadata": {
        "id": "4t6YKMDi2uvG"
      },
      "id": "4t6YKMDi2uvG"
    },
    {
      "cell_type": "markdown",
      "id": "3084d58b",
      "metadata": {
        "id": "3084d58b"
      },
      "source": [
        "## Comparison Operators\n",
        "[Python Comparison Operators- W3School](https://www.w3schools.com/python/python_operators.asp#:~:text=Python%20Comparison%20Operators)"
      ]
    },
    {
      "cell_type": "code",
      "execution_count": 1,
      "id": "59df0e4b",
      "metadata": {
        "id": "59df0e4b",
        "colab": {
          "base_uri": "https://localhost:8080/"
        },
        "outputId": "912d6500-e923-42b1-919c-8133be414e43"
      },
      "outputs": [
        {
          "output_type": "stream",
          "name": "stdout",
          "text": [
            "False\n"
          ]
        }
      ],
      "source": [
        "print(2==3)"
      ]
    },
    {
      "cell_type": "code",
      "execution_count": 2,
      "id": "a93ec307",
      "metadata": {
        "id": "a93ec307",
        "colab": {
          "base_uri": "https://localhost:8080/"
        },
        "outputId": "e857cae3-12fd-4f0c-801e-e770b81612b5"
      },
      "outputs": [
        {
          "output_type": "stream",
          "name": "stdout",
          "text": [
            "True\n"
          ]
        }
      ],
      "source": [
        "print(2==2)"
      ]
    },
    {
      "cell_type": "code",
      "execution_count": 3,
      "id": "f8ae0404",
      "metadata": {
        "id": "f8ae0404",
        "colab": {
          "base_uri": "https://localhost:8080/"
        },
        "outputId": "ea5ed1bb-f250-4a42-c312-7b10a457df5a"
      },
      "outputs": [
        {
          "output_type": "stream",
          "name": "stdout",
          "text": [
            "True\n",
            "False\n"
          ]
        }
      ],
      "source": [
        "my_number = 60\n",
        "print(my_number==60)\n",
        "print(my_number==62)"
      ]
    },
    {
      "cell_type": "code",
      "execution_count": 4,
      "id": "c6b7d4bb",
      "metadata": {
        "id": "c6b7d4bb",
        "colab": {
          "base_uri": "https://localhost:8080/"
        },
        "outputId": "3c217368-bb39-463a-8be8-9181cdc1389c"
      },
      "outputs": [
        {
          "output_type": "stream",
          "name": "stdout",
          "text": [
            "False\n"
          ]
        }
      ],
      "source": [
        "print(my_number>60)"
      ]
    },
    {
      "cell_type": "code",
      "execution_count": 5,
      "id": "f40535b7",
      "metadata": {
        "id": "f40535b7",
        "colab": {
          "base_uri": "https://localhost:8080/"
        },
        "outputId": "6f426873-276c-4992-abf2-1a2d31d8a5ae"
      },
      "outputs": [
        {
          "output_type": "stream",
          "name": "stdout",
          "text": [
            "True\n"
          ]
        }
      ],
      "source": [
        "print(my_number>59)"
      ]
    },
    {
      "cell_type": "code",
      "execution_count": null,
      "id": "30f90294",
      "metadata": {
        "id": "30f90294"
      },
      "outputs": [],
      "source": [
        "print(my_number<96)"
      ]
    },
    {
      "cell_type": "code",
      "execution_count": null,
      "id": "7ff877f2",
      "metadata": {
        "id": "7ff877f2"
      },
      "outputs": [],
      "source": [
        "print(my_number>=60)"
      ]
    },
    {
      "cell_type": "code",
      "execution_count": null,
      "id": "a8b9beed",
      "metadata": {
        "id": "a8b9beed"
      },
      "outputs": [],
      "source": [
        "print(my_number<=60)"
      ]
    },
    {
      "cell_type": "code",
      "execution_count": 8,
      "id": "d34e03ff",
      "metadata": {
        "id": "d34e03ff",
        "colab": {
          "base_uri": "https://localhost:8080/"
        },
        "outputId": "5caa0efc-3f47-4253-c24b-02b3bed2c4bb"
      },
      "outputs": [
        {
          "output_type": "stream",
          "name": "stdout",
          "text": [
            "False\n"
          ]
        }
      ],
      "source": [
        "temperature = 19\n",
        "print(temperature>20)"
      ]
    },
    {
      "cell_type": "markdown",
      "id": "2c3c759e",
      "metadata": {
        "id": "2c3c759e"
      },
      "source": [
        "#### not equal operator"
      ]
    },
    {
      "cell_type": "code",
      "execution_count": 6,
      "id": "92e1c94a",
      "metadata": {
        "id": "92e1c94a",
        "colab": {
          "base_uri": "https://localhost:8080/"
        },
        "outputId": "08121a82-aa17-4f21-92c5-be5a0f9fe5df"
      },
      "outputs": [
        {
          "output_type": "stream",
          "name": "stdout",
          "text": [
            "True\n"
          ]
        }
      ],
      "source": [
        "print(2 != 3)"
      ]
    },
    {
      "cell_type": "code",
      "execution_count": 9,
      "id": "df218ecd",
      "metadata": {
        "id": "df218ecd",
        "colab": {
          "base_uri": "https://localhost:8080/"
        },
        "outputId": "29937971-735e-419d-d1ef-7dba94383791"
      },
      "outputs": [
        {
          "output_type": "stream",
          "name": "stdout",
          "text": [
            "True\n"
          ]
        }
      ],
      "source": [
        "print(temperature != 20)"
      ]
    },
    {
      "cell_type": "code",
      "execution_count": null,
      "id": "f2caef06",
      "metadata": {
        "id": "f2caef06"
      },
      "outputs": [],
      "source": [
        "print(temperature != 19)"
      ]
    },
    {
      "cell_type": "markdown",
      "id": "ef1fe889",
      "metadata": {
        "id": "ef1fe889"
      },
      "source": [
        "##### Exercise: Take two number from a user, compare and return result."
      ]
    },
    {
      "cell_type": "code",
      "execution_count": null,
      "id": "51127302",
      "metadata": {
        "id": "51127302"
      },
      "outputs": [],
      "source": [
        "number1 = float(input(\"Please enter a number:\"))\n",
        "number2 = float(input(\"Please enter a number:\"))\n",
        "print(number1, \"is greater than\", number2, number1>number2)\n",
        "print(number1, \"is less than\", number2, number1<number2)\n",
        "print(number1, \"is equal to\", number2, number1==number2)"
      ]
    },
    {
      "cell_type": "markdown",
      "source": [
        "# Over to you - Exercise - Lab\n",
        "\n",
        "Using one of the comparison operators in Python, write a simple two-line program that takes the parameter n as input, which is an integer, and prints False if n is less than 100, and True if n is greater than or equal to 100.\n"
      ],
      "metadata": {
        "id": "KjsN-y2f4kWF"
      },
      "id": "KjsN-y2f4kWF"
    },
    {
      "cell_type": "code",
      "source": [],
      "metadata": {
        "id": "wFcXAh2B49Tx"
      },
      "id": "wFcXAh2B49Tx",
      "execution_count": null,
      "outputs": []
    },
    {
      "cell_type": "markdown",
      "source": [
        "## Solution"
      ],
      "metadata": {
        "id": "_qfoiqDZ46Me"
      },
      "id": "_qfoiqDZ46Me"
    },
    {
      "cell_type": "code",
      "source": [
        "n = int(input(\"Enter a number: \"))\n",
        "print(n >= 100)"
      ],
      "metadata": {
        "colab": {
          "base_uri": "https://localhost:8080/"
        },
        "id": "Xg32Aetw4v3P",
        "outputId": "e81dc65a-fa90-431b-ae03-4cc5566e69bc"
      },
      "id": "Xg32Aetw4v3P",
      "execution_count": 10,
      "outputs": [
        {
          "output_type": "stream",
          "name": "stdout",
          "text": [
            "Enter a number: 10\n",
            "False\n"
          ]
        }
      ]
    },
    {
      "cell_type": "markdown",
      "id": "4ca42ba4",
      "metadata": {
        "id": "4ca42ba4"
      },
      "source": [
        "# If Statement\n",
        "\n",
        "[Python Flow Control - If Statements](https://www.toppr.com/guides/python-guide/tutorials/python-flow-control/if-elif-else/python-if-if-else-if-elif-else-and-nested-if-statement/\n",
        ")\n",
        "\n",
        "You can also watch the videos and Follow along."
      ]
    },
    {
      "cell_type": "code",
      "execution_count": null,
      "id": "40c10a4a",
      "metadata": {
        "id": "40c10a4a"
      },
      "outputs": [],
      "source": [
        "number1 = float(input(\"Please enter a number:\"))\n",
        "number2 = float(input(\"Please enter a number:\"))\n",
        "\n",
        "if number2>number1:\n",
        "    print(number2, \"is greater than\", number1)"
      ]
    },
    {
      "cell_type": "code",
      "execution_count": null,
      "id": "1643008d",
      "metadata": {
        "id": "1643008d"
      },
      "outputs": [],
      "source": [
        "number1 = float(input(\"Please enter a number:\"))\n",
        "number2 = float(input(\"Please enter a number:\"))\n",
        "\n",
        "if number2>number1:\n",
        "    print(number2, \"is greater than\", number1)\n",
        "else:\n",
        "    print(number2, \"is not greater than\", number1)\n"
      ]
    },
    {
      "cell_type": "code",
      "execution_count": null,
      "id": "a770e5f3",
      "metadata": {
        "id": "a770e5f3"
      },
      "outputs": [],
      "source": [
        "# Read two numbers\n",
        "number1 = int(input(\"Enter the first number: \"))\n",
        "number2 = int(input(\"Enter the second number: \"))\n",
        "\n",
        "# Choose the larger number\n",
        "if number1 > number2:\n",
        "    larger_number = number1\n",
        "else:\n",
        "    larger_number = number2\n",
        "\n",
        "# Print the result\n",
        "print(\"The larger number is:\", larger_number)\n"
      ]
    },
    {
      "cell_type": "code",
      "execution_count": null,
      "id": "c65b0620",
      "metadata": {
        "id": "c65b0620"
      },
      "outputs": [],
      "source": [
        "# Read two numbers\n",
        "number1 = int(input(\"Enter the first number: \"))\n",
        "number2 = int(input(\"Enter the second number: \"))\n",
        "\n",
        "# Choose the larger number\n",
        "if number1 > number2:\n",
        "    print(\"The larger number is:\", number1)\n",
        "\n",
        "elif number2 > number1:\n",
        "    print(\"The larger number is:\", number2)\n",
        "\n",
        "#elif :\n",
        "#elif:\n",
        "\n",
        "else:\n",
        "    print(number1, \"is equal to\", number2)\n"
      ]
    },
    {
      "cell_type": "markdown",
      "id": "89bca2d5",
      "metadata": {
        "id": "89bca2d5"
      },
      "source": [
        "You can add more elif conditions. But only 1 \"if\" and 1 \"else\"."
      ]
    },
    {
      "cell_type": "markdown",
      "id": "887faebb",
      "metadata": {
        "id": "887faebb"
      },
      "source": [
        "#### Python Program to Check if a Number is Positive, Negative or Zero:\n"
      ]
    },
    {
      "cell_type": "code",
      "execution_count": null,
      "id": "9d39b6c5",
      "metadata": {
        "id": "9d39b6c5"
      },
      "outputs": [],
      "source": [
        "num = float(input(\"Enter a number: \"))\n",
        "\n",
        "\n",
        "if num > 0:\n",
        "    print(\"The number is positive.\")\n",
        "elif num < 0:\n",
        "    print(\"The number is negative.\")\n",
        "else:\n",
        "    print(\"The number is zero.\")"
      ]
    },
    {
      "cell_type": "markdown",
      "id": "4168b864",
      "metadata": {
        "id": "4168b864"
      },
      "source": [
        "### While Loop"
      ]
    },
    {
      "cell_type": "code",
      "execution_count": 11,
      "id": "a05e623d",
      "metadata": {
        "id": "a05e623d",
        "colab": {
          "base_uri": "https://localhost:8080/"
        },
        "outputId": "f86e1949-e5aa-4ce2-80da-9f97d4328732"
      },
      "outputs": [
        {
          "output_type": "stream",
          "name": "stdout",
          "text": [
            "1\n",
            "2\n",
            "3\n",
            "4\n",
            "5\n"
          ]
        }
      ],
      "source": [
        "i = 1\n",
        "while i<6:\n",
        "    print(i)\n",
        "    i +=1"
      ]
    },
    {
      "cell_type": "markdown",
      "id": "4cd05416",
      "metadata": {
        "id": "4cd05416"
      },
      "source": [
        "Write a code to print all even numbers from 0 to 100."
      ]
    },
    {
      "cell_type": "code",
      "execution_count": null,
      "id": "8e484ac7",
      "metadata": {
        "scrolled": true,
        "id": "8e484ac7"
      },
      "outputs": [],
      "source": [
        "my_number = 0\n",
        "while my_number<=100:\n",
        "    print(my_number)\n",
        "    my_number +=2 #my_number = my_number +2"
      ]
    },
    {
      "cell_type": "markdown",
      "id": "26644273",
      "metadata": {
        "id": "26644273"
      },
      "source": [
        "Write a code to print all number from 0 to 100 which divisible by 7. Hint: use if statement"
      ]
    },
    {
      "cell_type": "code",
      "execution_count": null,
      "id": "83d8c3fc",
      "metadata": {
        "id": "83d8c3fc"
      },
      "outputs": [],
      "source": [
        "my_number = 0\n",
        "while my_number<=100:\n",
        "    if my_number%7 == 0:\n",
        "        print(my_number)\n",
        "    my_number +=1"
      ]
    },
    {
      "cell_type": "code",
      "execution_count": null,
      "id": "360245bb",
      "metadata": {
        "id": "360245bb"
      },
      "outputs": [],
      "source": []
    },
    {
      "cell_type": "markdown",
      "id": "297c75d2",
      "metadata": {
        "id": "297c75d2"
      },
      "source": [
        "## For Loop"
      ]
    },
    {
      "cell_type": "code",
      "execution_count": null,
      "id": "5b65ef9f",
      "metadata": {
        "id": "5b65ef9f"
      },
      "outputs": [],
      "source": [
        "print(\"banana\", \"apple\", sep=\",\")"
      ]
    },
    {
      "cell_type": "code",
      "execution_count": null,
      "id": "39001261",
      "metadata": {
        "id": "39001261"
      },
      "outputs": [],
      "source": [
        "fruits = [\"apple\", \"banana\", \"berry\"]\n",
        "for x in fruits:\n",
        "    print(x, end=\".\")"
      ]
    },
    {
      "cell_type": "code",
      "execution_count": null,
      "id": "9399b5c6",
      "metadata": {
        "id": "9399b5c6"
      },
      "outputs": [],
      "source": [
        "for x in \"banana\":\n",
        "    print(x)"
      ]
    },
    {
      "cell_type": "code",
      "execution_count": null,
      "id": "cbf60f46",
      "metadata": {
        "id": "cbf60f46"
      },
      "outputs": [],
      "source": [
        "for x in \"Yusuf\":\n",
        "    print(x, end=\"-\")"
      ]
    },
    {
      "cell_type": "code",
      "execution_count": null,
      "id": "861a5268",
      "metadata": {
        "id": "861a5268"
      },
      "outputs": [],
      "source": [
        "for x in 12345:\n",
        "    print(x+1)"
      ]
    },
    {
      "cell_type": "code",
      "execution_count": null,
      "id": "e25c3209",
      "metadata": {
        "id": "e25c3209"
      },
      "outputs": [],
      "source": [
        "print(\"Numbers from 1 to 50:\")\n",
        "for n in range(1, 51):\n",
        "    print(n, end=\" \")"
      ]
    },
    {
      "cell_type": "markdown",
      "id": "fc4e05e3",
      "metadata": {
        "id": "fc4e05e3"
      },
      "source": [
        "Write a code to print all even numbers from 0 to 100. (use step argument)"
      ]
    },
    {
      "cell_type": "code",
      "execution_count": null,
      "id": "c1a36f39",
      "metadata": {
        "id": "c1a36f39"
      },
      "outputs": [],
      "source": [
        "print(\"Even numbers from 0 to 100:\")\n",
        "for n in range(0, 101, 2):\n",
        "    print(n, end=\" \")"
      ]
    },
    {
      "cell_type": "markdown",
      "id": "97a7791f",
      "metadata": {
        "id": "97a7791f"
      },
      "source": [
        "Write a code to print all number from 0 to 100 which divisible by 7"
      ]
    },
    {
      "cell_type": "code",
      "execution_count": null,
      "id": "3cbd6b89",
      "metadata": {
        "id": "3cbd6b89"
      },
      "outputs": [],
      "source": [
        "print(\"Multiples of 7 from 0 to 100:\")\n",
        "for n in range(0, 101, 7):\n",
        "    print(n, end=\" \")"
      ]
    },
    {
      "cell_type": "markdown",
      "id": "9576d637",
      "metadata": {
        "id": "9576d637"
      },
      "source": [
        "Write a code to print all odd numbers from 0 to 100. (use step argument)"
      ]
    },
    {
      "cell_type": "code",
      "execution_count": null,
      "id": "556a0938",
      "metadata": {
        "id": "556a0938"
      },
      "outputs": [],
      "source": [
        "print(\"Odd numbers from 1 to 100:\")\n",
        "for n in range(1, 101, 2):\n",
        "    print(n, end=\" \")"
      ]
    },
    {
      "cell_type": "code",
      "execution_count": null,
      "id": "cf0fcb56",
      "metadata": {
        "scrolled": true,
        "id": "cf0fcb56"
      },
      "outputs": [],
      "source": [
        "for n in range(0, 101):\n",
        "    if n % 3 == 0 and n % 5 == 0:\n",
        "        print(\"FizzBuzz\")\n",
        "    elif n % 3 == 0:\n",
        "        print(\"Fizz\")\n",
        "    elif n % 5 == 0:\n",
        "        print(\"Buzz\")\n",
        "    else:\n",
        "        print(n)"
      ]
    },
    {
      "cell_type": "code",
      "execution_count": null,
      "id": "4e64e97d",
      "metadata": {
        "scrolled": true,
        "id": "4e64e97d"
      },
      "outputs": [],
      "source": [
        "#Task to print fizz or buzz or fizzbuzz\n",
        "\n",
        "for n in range(1,101):\n",
        "    if n%3==0 and n%5==0:\n",
        "        print(\"\\n\",n,\"-FizzBuzz\", end=\"\")\n",
        "    elif n%3==0:\n",
        "        print(\"\\n\",n,\"-Fizz\",end=\"\")\n",
        "    elif n%5==0:\n",
        "        print(\"\\n\",n,\"-Bizz\",end=\"\")\n",
        "    else:\n",
        "        print(\"\\n\",n,end=\" \")"
      ]
    },
    {
      "cell_type": "code",
      "execution_count": null,
      "id": "da781f0d",
      "metadata": {
        "scrolled": true,
        "id": "da781f0d"
      },
      "outputs": [],
      "source": [
        "for num in range(1,101):\n",
        "    string = \"\"\n",
        "    if num % 3 == 0:\n",
        "        string = string + \"Fizz\"\n",
        "    if num % 5 == 0:\n",
        "        string = string + \"Buzz\"\n",
        "    if num % 5 != 0 and num % 3 != 0:\n",
        "        string = string + str(num)\n",
        "    print(string)\n"
      ]
    },
    {
      "cell_type": "code",
      "execution_count": null,
      "id": "f9995a87",
      "metadata": {
        "id": "f9995a87"
      },
      "outputs": [],
      "source": []
    },
    {
      "cell_type": "markdown",
      "id": "c52a1c0c",
      "metadata": {
        "id": "c52a1c0c"
      },
      "source": [
        "## Collection Types in Python"
      ]
    },
    {
      "cell_type": "markdown",
      "id": "8354ca3d",
      "metadata": {
        "id": "8354ca3d"
      },
      "source": [
        "### List"
      ]
    },
    {
      "cell_type": "code",
      "execution_count": null,
      "id": "d42eae30",
      "metadata": {
        "id": "d42eae30"
      },
      "outputs": [],
      "source": [
        "mylist = [\"apple\", \"banana\", \"cherry\"]\n",
        "\n",
        "word = \"happy\"\n",
        "mylist2 = list(word)\n",
        "\n",
        "\n",
        "print(mylist)\n",
        "print(mylist2)"
      ]
    },
    {
      "cell_type": "code",
      "execution_count": null,
      "id": "5160fd80",
      "metadata": {
        "id": "5160fd80"
      },
      "outputs": [],
      "source": [
        "print(type(mylist))"
      ]
    },
    {
      "cell_type": "code",
      "execution_count": null,
      "id": "c115b8d5",
      "metadata": {
        "id": "c115b8d5"
      },
      "outputs": [],
      "source": [
        "print(type(mylist2))"
      ]
    },
    {
      "cell_type": "code",
      "execution_count": null,
      "id": "46e292cc",
      "metadata": {
        "id": "46e292cc"
      },
      "outputs": [],
      "source": [
        "age = 32\n",
        "mylist3 = list(age)"
      ]
    },
    {
      "cell_type": "code",
      "execution_count": null,
      "id": "b35e16df",
      "metadata": {
        "id": "b35e16df"
      },
      "outputs": [],
      "source": [
        "age = [32]\n",
        "print(type(age))"
      ]
    },
    {
      "cell_type": "code",
      "execution_count": null,
      "id": "da2d7bdb",
      "metadata": {
        "scrolled": true,
        "id": "da2d7bdb"
      },
      "outputs": [],
      "source": [
        "customer_info = [\"Mr.X\", 22, \"UK\", \"12/05/2001\", 1.65]\n",
        "print(customer_info)"
      ]
    },
    {
      "cell_type": "code",
      "execution_count": null,
      "id": "593b8aa3",
      "metadata": {
        "id": "593b8aa3"
      },
      "outputs": [],
      "source": [
        "customer_info"
      ]
    },
    {
      "cell_type": "markdown",
      "id": "1884c7ea",
      "metadata": {
        "id": "1884c7ea"
      },
      "source": [
        "#### Indexing List"
      ]
    },
    {
      "cell_type": "code",
      "execution_count": null,
      "id": "04167aba",
      "metadata": {
        "id": "04167aba"
      },
      "outputs": [],
      "source": [
        "mylist1 = [\"a\", \"b\", 10, 20];\n",
        "\n",
        "mylist2 = [1, 2, 3, 4, 5, 6, 7 ];\n",
        "\n",
        "print(\"mylist1[1]: \", mylist1[1])\n",
        "\n",
        "print (\"mylist2[1:5]: \", mylist2[1:5])\n"
      ]
    },
    {
      "cell_type": "markdown",
      "id": "ac712576",
      "metadata": {
        "id": "ac712576"
      },
      "source": [
        "how to get [2, 3, 4, 5] using negative indexing"
      ]
    },
    {
      "cell_type": "code",
      "execution_count": null,
      "id": "716e0df9",
      "metadata": {
        "id": "716e0df9"
      },
      "outputs": [],
      "source": [
        "print(mylist2[-4:-2])"
      ]
    },
    {
      "cell_type": "markdown",
      "id": "f7ebd029",
      "metadata": {
        "id": "f7ebd029"
      },
      "source": [
        "mylist2 = [1, 2, 3, 4, 5, 6, 7 ];\n",
        "          -7 -6 -5 -4 -3 -2 -1  "
      ]
    },
    {
      "cell_type": "code",
      "execution_count": null,
      "id": "e21b173d",
      "metadata": {
        "id": "e21b173d"
      },
      "outputs": [],
      "source": [
        "print (\"mylist2[1:5]: \", mylist2[-6:-2]) #last index in range -2 will not be printed"
      ]
    },
    {
      "cell_type": "code",
      "execution_count": null,
      "id": "a5c76a1f",
      "metadata": {
        "id": "a5c76a1f"
      },
      "outputs": [],
      "source": [
        "#What will be the output?\n",
        "nums = [10, 20, 30, 40, 50, 60, 70, 80, 90]\n",
        "some_nums = nums[2:7]\n",
        "print(some_nums)"
      ]
    },
    {
      "cell_type": "code",
      "execution_count": null,
      "id": "3fdf1fe9",
      "metadata": {
        "id": "3fdf1fe9"
      },
      "outputs": [],
      "source": [
        "#Complete the code.\n",
        "\n",
        "nums = [10, 20, 30, 40, 50, 60, 70, 80, 90]\n",
        "\n",
        "print(nums[0:4])\n",
        "\n",
        "\n",
        "#Output:\n",
        "#10, 20,30,40\n"
      ]
    },
    {
      "cell_type": "code",
      "execution_count": null,
      "id": "3a86bad1",
      "metadata": {
        "id": "3a86bad1"
      },
      "outputs": [],
      "source": [
        "thislist = [\"apple\", \"banana\", \"cherry\"]\n",
        "\n",
        "print(thislist)\n",
        "\n",
        "thislist[1] = \"blackcurrant\"\n",
        "\n",
        "print(thislist)\n",
        "\n"
      ]
    },
    {
      "cell_type": "code",
      "execution_count": null,
      "id": "59bcf6f2",
      "metadata": {
        "id": "59bcf6f2"
      },
      "outputs": [],
      "source": [
        "thislist[3]=\"watermelon\"\n",
        "\n",
        "print(thislist)"
      ]
    },
    {
      "cell_type": "code",
      "execution_count": null,
      "id": "38f860a8",
      "metadata": {
        "id": "38f860a8"
      },
      "outputs": [],
      "source": [
        "thislist.append(\"orange\")\n",
        "\n",
        "print(thislist)"
      ]
    },
    {
      "cell_type": "code",
      "execution_count": null,
      "id": "23e1f9b2",
      "metadata": {
        "id": "23e1f9b2"
      },
      "outputs": [],
      "source": [
        "print(thislist)"
      ]
    },
    {
      "cell_type": "code",
      "execution_count": null,
      "id": "785139b2",
      "metadata": {
        "id": "785139b2"
      },
      "outputs": [],
      "source": [
        "thislist.insert(2, \"watermelon\")\n",
        "\n",
        "print(thislist)"
      ]
    },
    {
      "cell_type": "code",
      "execution_count": null,
      "id": "25667548",
      "metadata": {
        "id": "25667548"
      },
      "outputs": [],
      "source": [
        "thislist.sort()"
      ]
    },
    {
      "cell_type": "code",
      "execution_count": null,
      "id": "135b741f",
      "metadata": {
        "id": "135b741f"
      },
      "outputs": [],
      "source": [
        "print(thislist)"
      ]
    },
    {
      "cell_type": "code",
      "execution_count": null,
      "id": "f047fada",
      "metadata": {
        "id": "f047fada"
      },
      "outputs": [],
      "source": [
        "thislist.insert(5,\"kiwi\")"
      ]
    },
    {
      "cell_type": "code",
      "execution_count": null,
      "id": "fcf20127",
      "metadata": {
        "id": "fcf20127"
      },
      "outputs": [],
      "source": [
        "print(thislist)"
      ]
    },
    {
      "cell_type": "code",
      "execution_count": null,
      "id": "489cf69e",
      "metadata": {
        "id": "489cf69e"
      },
      "outputs": [],
      "source": [
        "thislist.insert(8,\"kiwi\")"
      ]
    },
    {
      "cell_type": "code",
      "execution_count": null,
      "id": "c2193240",
      "metadata": {
        "id": "c2193240"
      },
      "outputs": [],
      "source": [
        "print(thislist)"
      ]
    },
    {
      "cell_type": "code",
      "execution_count": null,
      "id": "b880d2b5",
      "metadata": {
        "id": "b880d2b5"
      },
      "outputs": [],
      "source": [
        "thislist.insert(7,\"kiwi\")"
      ]
    },
    {
      "cell_type": "code",
      "execution_count": null,
      "id": "85c3603b",
      "metadata": {
        "id": "85c3603b"
      },
      "outputs": [],
      "source": [
        "thislist.reverse()"
      ]
    },
    {
      "cell_type": "code",
      "execution_count": null,
      "id": "17259121",
      "metadata": {
        "id": "17259121"
      },
      "outputs": [],
      "source": [
        "print(thislist)"
      ]
    },
    {
      "cell_type": "code",
      "execution_count": null,
      "id": "5d096ef2",
      "metadata": {
        "id": "5d096ef2"
      },
      "outputs": [],
      "source": [
        "thislist = [\"apple\", \"banana\", \"cherry\"]\n",
        "print(thislist)\n",
        "\n",
        "thislist.pop(1)\n",
        "\n",
        "print(thislist)"
      ]
    },
    {
      "cell_type": "markdown",
      "id": "4e74c507",
      "metadata": {
        "id": "4e74c507"
      },
      "source": [
        "#### Exercise: Using the created above (thislist) add 5 more items into this list and then remove index from 2:5.."
      ]
    },
    {
      "cell_type": "code",
      "execution_count": null,
      "id": "8056ed6e",
      "metadata": {
        "id": "8056ed6e"
      },
      "outputs": [],
      "source": [
        "thislist = [\"apple\", \"banana\", \"cherry\"]\n",
        "print(\"List before adding\")\n",
        "print(thislist)\n",
        "\n",
        "\n",
        "thislist.append([\"orange\", \"grape\", \"kiwi\", \"melon\", \"pear\"])\n",
        "\n",
        "\n",
        "\n",
        "print(\"List after adding 5 more items:\")\n",
        "print(thislist)\n",
        "\n",
        "\n",
        "\n",
        "print(\"List after removing element at index 1:\")\n",
        "print(thislist)"
      ]
    },
    {
      "cell_type": "code",
      "execution_count": null,
      "id": "4967034c",
      "metadata": {
        "id": "4967034c"
      },
      "outputs": [],
      "source": [
        "thislist = [\"apple\", \"banana\", \"cherry\"]\n",
        "\n",
        "newlist = [\"mango\",\"orange\",\"plum\",\"pineapple\", \"peach\"]\n",
        "\n",
        "thislist.extend(newlist)\n",
        "\n",
        "print(thislist)\n",
        "\n",
        "del thislist[2:5]\n",
        "\n",
        "print(thislist)"
      ]
    },
    {
      "cell_type": "code",
      "execution_count": null,
      "id": "f3687980",
      "metadata": {
        "id": "f3687980"
      },
      "outputs": [],
      "source": [
        "thislist = [\"apple\", \"banana\", \"cherry\"]\n",
        "print(\"Original list:\", thislist)\n",
        "\n",
        "\n",
        "\n",
        "print(\"After removing index 1:\", thislist)\n",
        "\n",
        "#thislist.pop(2:5) this will give error. pop method gets only 1 index value\n",
        "\n",
        "thislist.append([\"orange\", \"grape\", \"mango\", \"pineapple\", \"kiwi\"])\n",
        "print(\"After adding 5 items:\", thislist)\n",
        "thislist = thislist[:2] + thislist[5:]\n",
        "print(\"After removing items from index 2 to 4:\", thislist)\n",
        "\n",
        "print(thislist)"
      ]
    },
    {
      "cell_type": "markdown",
      "id": "1c89410a",
      "metadata": {
        "id": "1c89410a"
      },
      "source": [
        "### Tuple"
      ]
    },
    {
      "cell_type": "code",
      "execution_count": null,
      "id": "7e52e164",
      "metadata": {
        "id": "7e52e164"
      },
      "outputs": [],
      "source": [
        "mytuple = (\"apple\", \"banana\", \"cherry\")\n",
        "\n",
        "print(mytuple)\n",
        "\n",
        "print(\"1st index in mytuple:\", mytuple[1])\n",
        "\n",
        "#Write a code to display last item in mytuple.\n",
        "\n"
      ]
    },
    {
      "cell_type": "code",
      "execution_count": null,
      "id": "43a6c5a2",
      "metadata": {
        "id": "43a6c5a2"
      },
      "outputs": [],
      "source": [
        "#[10:05] Rahana Begum\n",
        "\n",
        "mytuple = (\"apple\",\"banana\",\"cherry\")\n",
        "\n",
        "print (mytuple)\n",
        "\n",
        "print(\"1st index in mytuple:\", mytuple[2])\n"
      ]
    },
    {
      "cell_type": "code",
      "execution_count": null,
      "id": "a56ea30c",
      "metadata": {
        "id": "a56ea30c"
      },
      "outputs": [],
      "source": [
        "print(\"Last index in my tuple:\", mytuple[-1])"
      ]
    },
    {
      "cell_type": "code",
      "execution_count": null,
      "id": "0b4569a6",
      "metadata": {
        "id": "0b4569a6"
      },
      "outputs": [],
      "source": [
        "print(\"last index in mytuple:\", mytuple[2])"
      ]
    },
    {
      "cell_type": "code",
      "execution_count": null,
      "id": "8075a1ea",
      "metadata": {
        "id": "8075a1ea"
      },
      "outputs": [],
      "source": [
        "#[10:06] Georgi Zlatev\n",
        "\n",
        "print(mytuple[-1])"
      ]
    },
    {
      "cell_type": "code",
      "execution_count": null,
      "id": "06e2558b",
      "metadata": {
        "id": "06e2558b"
      },
      "outputs": [],
      "source": [
        "tuple_1 = (1, 2, 4, 8)\n",
        "tuple_2 = 1., .5, .25, .125\n",
        "print(tuple_1)\n",
        "print(tuple_2)\n"
      ]
    },
    {
      "cell_type": "code",
      "execution_count": null,
      "id": "25b29ca4",
      "metadata": {
        "id": "25b29ca4"
      },
      "outputs": [],
      "source": [
        "my_tuple = (1, 10, 100, 1000)\n",
        "\n",
        "print(my_tuple[0])\n",
        "print(my_tuple[-1])\n",
        "print(my_tuple[1:])\n",
        "print(my_tuple[:-2])\n",
        "\n",
        "for elem in my_tuple:\n",
        "    print(elem)\n",
        "\n",
        "for abc in my_tuple:\n",
        "    print(abc)"
      ]
    },
    {
      "cell_type": "code",
      "execution_count": null,
      "id": "6f3a8355",
      "metadata": {
        "id": "6f3a8355"
      },
      "outputs": [],
      "source": [
        "my_tuple = (1, 10, 100)\n",
        "\n",
        "t1 = my_tuple + (1000, 10000)\n",
        "\n",
        "t2 = my_tuple * 3\n",
        "\n",
        "print(t2)\n",
        "print(len(t2))\n",
        "print(t1)\n",
        "\n",
        "print(10 in my_tuple)\n",
        "print(-10 not in my_tuple)\n"
      ]
    },
    {
      "cell_type": "code",
      "execution_count": null,
      "id": "7872fc51",
      "metadata": {
        "id": "7872fc51"
      },
      "outputs": [],
      "source": [
        "print(len(\"my name is Yusuf\"))"
      ]
    },
    {
      "cell_type": "code",
      "execution_count": null,
      "id": "1087247e",
      "metadata": {
        "id": "1087247e"
      },
      "outputs": [],
      "source": [
        "my_tuple = (101, 10, 100)\n",
        "\n",
        "\n",
        "print(my_tuple)"
      ]
    },
    {
      "cell_type": "markdown",
      "id": "55c57b40",
      "metadata": {
        "id": "55c57b40"
      },
      "source": [
        "### Set"
      ]
    },
    {
      "cell_type": "code",
      "execution_count": null,
      "id": "b4a808c2",
      "metadata": {
        "id": "b4a808c2"
      },
      "outputs": [],
      "source": [
        "mySet= {\"apple\", \"banana\", \"cherry\"}\n",
        "\n",
        "print(mySet)\n"
      ]
    },
    {
      "cell_type": "code",
      "execution_count": null,
      "id": "8561b831",
      "metadata": {
        "id": "8561b831"
      },
      "outputs": [],
      "source": [
        "print(mySet[1])"
      ]
    },
    {
      "cell_type": "code",
      "execution_count": null,
      "id": "d496ec93",
      "metadata": {
        "id": "d496ec93"
      },
      "outputs": [],
      "source": [
        "mySet2= {\"apple\", \"banana\", \"cherry\", \"apple\", \"banana\"}\n",
        "\n",
        "print(mySet2)\n"
      ]
    },
    {
      "cell_type": "markdown",
      "id": "22717a80",
      "metadata": {
        "id": "22717a80"
      },
      "source": [
        "### Dictionary"
      ]
    },
    {
      "cell_type": "code",
      "execution_count": null,
      "id": "a0c99cd6",
      "metadata": {
        "id": "a0c99cd6"
      },
      "outputs": [],
      "source": [
        "mydict = {\"brand\": \"Ford\", #brand:key and ford:value\n",
        "          \"model\": \"Mustang\",\n",
        "          \"year\": 1964}\n",
        "print(mydict)"
      ]
    },
    {
      "cell_type": "code",
      "execution_count": null,
      "id": "7042602f",
      "metadata": {
        "id": "7042602f"
      },
      "outputs": [],
      "source": [
        "print(mydict.get(\"brand\"))"
      ]
    },
    {
      "cell_type": "code",
      "execution_count": null,
      "id": "164fcfe8",
      "metadata": {
        "id": "164fcfe8"
      },
      "outputs": [],
      "source": [
        "print(mydict.get(\"year\")) #access 1964"
      ]
    },
    {
      "cell_type": "code",
      "execution_count": null,
      "id": "4cafe1c7",
      "metadata": {
        "id": "4cafe1c7"
      },
      "outputs": [],
      "source": [
        "print(mydict.get(1)) #access 1964"
      ]
    },
    {
      "cell_type": "code",
      "execution_count": null,
      "id": "a244a2eb",
      "metadata": {
        "id": "a244a2eb"
      },
      "outputs": [],
      "source": [
        "print(mydict.get(\"Ford\"))"
      ]
    },
    {
      "cell_type": "code",
      "execution_count": null,
      "id": "2e8a84a3",
      "metadata": {
        "id": "2e8a84a3"
      },
      "outputs": [],
      "source": [
        "dictionary = {\"cat\": \"chat\", \"dog\": \"chicken\", \"horse\": \"cheval\"}\n",
        "\n",
        "phone_numbers = {'boss': 5551234567, 'Suzy': 22657854310}\n",
        "\n",
        "empty_dictionary = {}\n",
        "\n",
        "print(dictionary)\n",
        "print(phone_numbers)\n",
        "print(empty_dictionary)\n"
      ]
    },
    {
      "cell_type": "code",
      "execution_count": null,
      "id": "dc2f62ba",
      "metadata": {
        "id": "dc2f62ba"
      },
      "outputs": [],
      "source": [
        "print(dictionary.keys())"
      ]
    },
    {
      "cell_type": "code",
      "execution_count": null,
      "id": "6de55b0a",
      "metadata": {
        "id": "6de55b0a"
      },
      "outputs": [],
      "source": [
        "print(dictionary.values())"
      ]
    }
  ],
  "metadata": {
    "kernelspec": {
      "display_name": "Python 3 (ipykernel)",
      "language": "python",
      "name": "python3"
    },
    "language_info": {
      "codemirror_mode": {
        "name": "ipython",
        "version": 3
      },
      "file_extension": ".py",
      "mimetype": "text/x-python",
      "name": "python",
      "nbconvert_exporter": "python",
      "pygments_lexer": "ipython3",
      "version": "3.9.13"
    },
    "colab": {
      "provenance": []
    }
  },
  "nbformat": 4,
  "nbformat_minor": 5
}